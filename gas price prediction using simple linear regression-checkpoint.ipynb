{
 "cells": [],
 "metadata": {},
 "nbformat": 4,
 "nbformat_minor": 2
}
import pandas as pd
import matplotlib.pyplot as plt
import numpy as np


dataset= pd.read_csv('gas vs miles.csv')
X= dataset.iloc[: , :-1].values
y= dataset.iloc[ :, -1].values

print(X)

from sklearn.model_selection import train_test_split 
X_train, X_test, y_train, y_test= train_test_split(X,y,test_size=0.2, random_state=0)

from sklearn.linear_model import LinearRegression
regressor= LinearRegression()
regressor.fit(X_train, y_train)

y_pred= regressor.predict(X_test)

plt.scatter(X_train, y_train,color='red')
plt.plot(X_train, regressor.predict(X_train))
plt.title('Gas vs Miles')
plt.xlabel('Miles')
plt.ylabel('total paid')
plt.show()


plt.scatter(X_test, y_test,color='blue')
plt.plot(X_train, regressor.predict(X_train))
plt.title('Gas vs Miles (Test set)')
plt.xlabel('Miles')
plt.ylabel('total paid')
plt.show()

print(regressor.coef_)

print(regressor.predict([[560]]))
